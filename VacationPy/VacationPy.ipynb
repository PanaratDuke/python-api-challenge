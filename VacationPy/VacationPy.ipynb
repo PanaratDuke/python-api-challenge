{
 "cells": [
  {
   "cell_type": "markdown",
   "metadata": {},
   "source": [
    "# VacationPY"
   ]
  },
  {
   "cell_type": "code",
   "execution_count": 1,
   "metadata": {},
   "outputs": [],
   "source": [
    "# Dependencies and Setup\n",
    "import matplotlib.pyplot as plt\n",
    "import pandas as pd\n",
    "import numpy as np\n",
    "import requests\n",
    "import gmaps\n",
    "import gmaps.datasets\n",
    "import os\n",
    "\n",
    "# Import API key\n",
    "from api_key import google_key"
   ]
  },
  {
   "cell_type": "markdown",
   "metadata": {},
   "source": [
    "Read from csv and store in dataframe"
   ]
  },
  {
   "cell_type": "code",
   "execution_count": 2,
   "metadata": {},
   "outputs": [
    {
     "data": {
      "text/html": [
       "<div>\n",
       "<style scoped>\n",
       "    .dataframe tbody tr th:only-of-type {\n",
       "        vertical-align: middle;\n",
       "    }\n",
       "\n",
       "    .dataframe tbody tr th {\n",
       "        vertical-align: top;\n",
       "    }\n",
       "\n",
       "    .dataframe thead th {\n",
       "        text-align: right;\n",
       "    }\n",
       "</style>\n",
       "<table border=\"1\" class=\"dataframe\">\n",
       "  <thead>\n",
       "    <tr style=\"text-align: right;\">\n",
       "      <th></th>\n",
       "      <th>city</th>\n",
       "      <th>cloudiness</th>\n",
       "      <th>Country</th>\n",
       "      <th>date</th>\n",
       "      <th>humid</th>\n",
       "      <th>lat</th>\n",
       "      <th>lng</th>\n",
       "      <th>max_temp</th>\n",
       "      <th>wind_speed</th>\n",
       "    </tr>\n",
       "  </thead>\n",
       "  <tbody>\n",
       "    <tr>\n",
       "      <th>0</th>\n",
       "      <td>san patricio</td>\n",
       "      <td>12</td>\n",
       "      <td>MX</td>\n",
       "      <td>03/16/2020</td>\n",
       "      <td>84</td>\n",
       "      <td>19.22</td>\n",
       "      <td>-104.70</td>\n",
       "      <td>76.91</td>\n",
       "      <td>7.09</td>\n",
       "    </tr>\n",
       "    <tr>\n",
       "      <th>1</th>\n",
       "      <td>kodiak</td>\n",
       "      <td>40</td>\n",
       "      <td>US</td>\n",
       "      <td>03/16/2020</td>\n",
       "      <td>64</td>\n",
       "      <td>57.79</td>\n",
       "      <td>-152.41</td>\n",
       "      <td>39.20</td>\n",
       "      <td>9.17</td>\n",
       "    </tr>\n",
       "    <tr>\n",
       "      <th>2</th>\n",
       "      <td>rikitea</td>\n",
       "      <td>3</td>\n",
       "      <td>PF</td>\n",
       "      <td>03/16/2020</td>\n",
       "      <td>79</td>\n",
       "      <td>-23.12</td>\n",
       "      <td>-134.97</td>\n",
       "      <td>79.63</td>\n",
       "      <td>12.71</td>\n",
       "    </tr>\n",
       "    <tr>\n",
       "      <th>3</th>\n",
       "      <td>belaya gora</td>\n",
       "      <td>14</td>\n",
       "      <td>RU</td>\n",
       "      <td>03/16/2020</td>\n",
       "      <td>87</td>\n",
       "      <td>68.53</td>\n",
       "      <td>146.42</td>\n",
       "      <td>-10.98</td>\n",
       "      <td>1.70</td>\n",
       "    </tr>\n",
       "    <tr>\n",
       "      <th>4</th>\n",
       "      <td>dingle</td>\n",
       "      <td>0</td>\n",
       "      <td>PH</td>\n",
       "      <td>03/16/2020</td>\n",
       "      <td>56</td>\n",
       "      <td>11.00</td>\n",
       "      <td>122.67</td>\n",
       "      <td>84.79</td>\n",
       "      <td>11.03</td>\n",
       "    </tr>\n",
       "  </tbody>\n",
       "</table>\n",
       "</div>"
      ],
      "text/plain": [
       "           city  cloudiness Country        date  humid    lat     lng  \\\n",
       "0  san patricio          12      MX  03/16/2020     84  19.22 -104.70   \n",
       "1        kodiak          40      US  03/16/2020     64  57.79 -152.41   \n",
       "2       rikitea           3      PF  03/16/2020     79 -23.12 -134.97   \n",
       "3   belaya gora          14      RU  03/16/2020     87  68.53  146.42   \n",
       "4        dingle           0      PH  03/16/2020     56  11.00  122.67   \n",
       "\n",
       "   max_temp  wind_speed  \n",
       "0     76.91        7.09  \n",
       "1     39.20        9.17  \n",
       "2     79.63       12.71  \n",
       "3    -10.98        1.70  \n",
       "4     84.79       11.03  "
      ]
     },
     "execution_count": 2,
     "metadata": {},
     "output_type": "execute_result"
    }
   ],
   "source": [
    "# Cities.csv file from WeatherPy folder\n",
    "weather_df = pd.read_csv('../WeatherPy/output_data/cities.csv')\n",
    "weather_df.head(5)"
   ]
  },
  {
   "cell_type": "markdown",
   "metadata": {},
   "source": [
    "Create Humidity Heat Map"
   ]
  },
  {
   "cell_type": "code",
   "execution_count": 3,
   "metadata": {},
   "outputs": [],
   "source": [
    "# Setup google key\n",
    "\n",
    "gmaps.configure(api_key = google_key)"
   ]
  },
  {
   "cell_type": "code",
   "execution_count": 4,
   "metadata": {},
   "outputs": [],
   "source": [
    "# figure_layout = {\n",
    "#     'width': '400px',\n",
    "#     'height': '300px',\n",
    "#     'border': '1px solid black',\n",
    "#     'padding': '1px',\n",
    "#     'margin': '0 auto 0 auto'\n",
    "#     }\n",
    "# # fig = gmaps.figure(layout = figure_layout)"
   ]
  },
  {
   "cell_type": "code",
   "execution_count": 5,
   "metadata": {},
   "outputs": [
    {
     "data": {
      "application/vnd.jupyter.widget-view+json": {
       "model_id": "2439cf0a531d448b8179eb686135d624",
       "version_major": 2,
       "version_minor": 0
      },
      "text/plain": [
       "Figure(layout=FigureLayout(height='420px'))"
      ]
     },
     "metadata": {},
     "output_type": "display_data"
    }
   ],
   "source": [
    "# Setup location using lat an long \n",
    "locations = weather_df[['lat','lng']]\n",
    "humidity = weather_df['humid']\n",
    "\n",
    "fig = gmaps.figure(center = (10,-40), zoom_level = 2)\n",
    "fig.add_layer(gmaps.heatmap_layer(locations, weights=humidity,\n",
    "                                 max_intensity = 100, \n",
    "                                  point_radius = 5))\n",
    "fig"
   ]
  },
  {
   "cell_type": "markdown",
   "metadata": {},
   "source": [
    "Add Criteria to dataframe"
   ]
  },
  {
   "cell_type": "code",
   "execution_count": 6,
   "metadata": {},
   "outputs": [
    {
     "data": {
      "text/plain": [
       "city          38\n",
       "Country       38\n",
       "lat           38\n",
       "lng           38\n",
       "max_temp      38\n",
       "wind_speed    38\n",
       "cloudiness    38\n",
       "humid         38\n",
       "dtype: int64"
      ]
     },
     "execution_count": 6,
     "metadata": {},
     "output_type": "execute_result"
    }
   ],
   "source": [
    "# Create new dataframe to use for criteria\n",
    "weather_criteria_df = pd.DataFrame(weather_df, \n",
    "                                   columns =[\"city\", \n",
    "                                             \"Country\",\n",
    "                                             'lat',\n",
    "                                             'lng',\n",
    "                                             'max_temp',\n",
    "                                             'wind_speed',\n",
    "                                             'cloudiness',\n",
    "                                             'humid'\n",
    "])\n",
    "# weather_criteria_df\n",
    "max_temp = (weather_criteria_df['max_temp']<=75) &(weather_criteria_df['max_temp']>40)\n",
    "low_humid = (weather_criteria_df['humid']<50)\n",
    "low_wind_speed = (weather_criteria_df['wind_speed']<10)\n",
    "\n",
    "ideal_vacation_df = weather_criteria_df[max_temp & low_humid & low_wind_speed]\n",
    "ideal_vacation_df.count()"
   ]
  },
  {
   "cell_type": "markdown",
   "metadata": {},
   "source": [
    "Find Hotel"
   ]
  },
  {
   "cell_type": "code",
   "execution_count": 7,
   "metadata": {},
   "outputs": [
    {
     "name": "stderr",
     "output_type": "stream",
     "text": [
      "C:\\Users\\JeabD\\Anaconda3\\lib\\site-packages\\ipykernel_launcher.py:2: SettingWithCopyWarning: \n",
      "A value is trying to be set on a copy of a slice from a DataFrame.\n",
      "Try using .loc[row_indexer,col_indexer] = value instead\n",
      "\n",
      "See the caveats in the documentation: https://pandas.pydata.org/pandas-docs/stable/user_guide/indexing.html#returning-a-view-versus-a-copy\n",
      "  \n"
     ]
    },
    {
     "data": {
      "text/html": [
       "<div>\n",
       "<style scoped>\n",
       "    .dataframe tbody tr th:only-of-type {\n",
       "        vertical-align: middle;\n",
       "    }\n",
       "\n",
       "    .dataframe tbody tr th {\n",
       "        vertical-align: top;\n",
       "    }\n",
       "\n",
       "    .dataframe thead th {\n",
       "        text-align: right;\n",
       "    }\n",
       "</style>\n",
       "<table border=\"1\" class=\"dataframe\">\n",
       "  <thead>\n",
       "    <tr style=\"text-align: right;\">\n",
       "      <th></th>\n",
       "      <th>city</th>\n",
       "      <th>Country</th>\n",
       "      <th>lat</th>\n",
       "      <th>lng</th>\n",
       "      <th>max_temp</th>\n",
       "      <th>wind_speed</th>\n",
       "      <th>cloudiness</th>\n",
       "      <th>humid</th>\n",
       "      <th>hotel_name</th>\n",
       "    </tr>\n",
       "  </thead>\n",
       "  <tbody>\n",
       "    <tr>\n",
       "      <th>5</th>\n",
       "      <td>xingyi</td>\n",
       "      <td>CN</td>\n",
       "      <td>24.19</td>\n",
       "      <td>102.82</td>\n",
       "      <td>73.36</td>\n",
       "      <td>6.46</td>\n",
       "      <td>58</td>\n",
       "      <td>49</td>\n",
       "      <td></td>\n",
       "    </tr>\n",
       "    <tr>\n",
       "      <th>14</th>\n",
       "      <td>nurota</td>\n",
       "      <td>UZ</td>\n",
       "      <td>40.56</td>\n",
       "      <td>65.69</td>\n",
       "      <td>60.80</td>\n",
       "      <td>6.93</td>\n",
       "      <td>100</td>\n",
       "      <td>48</td>\n",
       "      <td></td>\n",
       "    </tr>\n",
       "    <tr>\n",
       "      <th>63</th>\n",
       "      <td>sohbatpur</td>\n",
       "      <td>PK</td>\n",
       "      <td>28.52</td>\n",
       "      <td>68.54</td>\n",
       "      <td>70.63</td>\n",
       "      <td>4.54</td>\n",
       "      <td>35</td>\n",
       "      <td>35</td>\n",
       "      <td></td>\n",
       "    </tr>\n",
       "    <tr>\n",
       "      <th>91</th>\n",
       "      <td>jalu</td>\n",
       "      <td>LY</td>\n",
       "      <td>29.03</td>\n",
       "      <td>21.55</td>\n",
       "      <td>64.78</td>\n",
       "      <td>6.44</td>\n",
       "      <td>0</td>\n",
       "      <td>26</td>\n",
       "      <td></td>\n",
       "    </tr>\n",
       "    <tr>\n",
       "      <th>92</th>\n",
       "      <td>luban</td>\n",
       "      <td>PL</td>\n",
       "      <td>51.12</td>\n",
       "      <td>15.29</td>\n",
       "      <td>41.00</td>\n",
       "      <td>5.99</td>\n",
       "      <td>91</td>\n",
       "      <td>32</td>\n",
       "      <td></td>\n",
       "    </tr>\n",
       "  </tbody>\n",
       "</table>\n",
       "</div>"
      ],
      "text/plain": [
       "         city Country    lat     lng  max_temp  wind_speed  cloudiness  humid  \\\n",
       "5      xingyi      CN  24.19  102.82     73.36        6.46          58     49   \n",
       "14     nurota      UZ  40.56   65.69     60.80        6.93         100     48   \n",
       "63  sohbatpur      PK  28.52   68.54     70.63        4.54          35     35   \n",
       "91       jalu      LY  29.03   21.55     64.78        6.44           0     26   \n",
       "92      luban      PL  51.12   15.29     41.00        5.99          91     32   \n",
       "\n",
       "   hotel_name  \n",
       "5              \n",
       "14             \n",
       "63             \n",
       "91             \n",
       "92             "
      ]
     },
     "execution_count": 7,
     "metadata": {},
     "output_type": "execute_result"
    }
   ],
   "source": [
    "# Add new column to store hotel name\n",
    "ideal_vacation_df['hotel_name'] = ''\n",
    "ideal_vacation_df.head(5)"
   ]
  },
  {
   "cell_type": "raw",
   "metadata": {},
   "source": [
    "# Sample from Google\n",
    "https://maps.googleapis.com/maps/api/place/nearbysearch/json?\n",
    "    location=-33.8670522,151.1957362\n",
    "    &radius=1500\n",
    "    &type=restaurant\n",
    "    &keyword=cruise\n",
    "    &key=YOUR_API_KEY"
   ]
  },
  {
   "cell_type": "code",
   "execution_count": 8,
   "metadata": {},
   "outputs": [
    {
     "name": "stdout",
     "output_type": "stream",
     "text": [
      "There is no Hotel near xingyi.\n"
     ]
    },
    {
     "name": "stderr",
     "output_type": "stream",
     "text": [
      "C:\\Users\\JeabD\\Anaconda3\\lib\\site-packages\\pandas\\core\\indexing.py:965: SettingWithCopyWarning: \n",
      "A value is trying to be set on a copy of a slice from a DataFrame.\n",
      "Try using .loc[row_indexer,col_indexer] = value instead\n",
      "\n",
      "See the caveats in the documentation: https://pandas.pydata.org/pandas-docs/stable/user_guide/indexing.html#returning-a-view-versus-a-copy\n",
      "  self.obj[item] = s\n"
     ]
    },
    {
     "name": "stdout",
     "output_type": "stream",
     "text": [
      "** Closest hotel in nurota is Guest House Ruslan Nurata & Tours.**\n",
      "** Closest hotel in sohbatpur is Kattah Hotel.**\n",
      "** Closest hotel in jalu is Jalu Hotel.**\n",
      "** Closest hotel in luban is Hotel Tęczowa.**\n",
      "There is no Hotel near bilma.\n",
      "There is no Hotel near magaria.\n",
      "There is no Hotel near hami.\n",
      "** Closest hotel in upington is The Maxton Boutique Hotel Upington.**\n",
      "** Closest hotel in san juan is Civico Art Hotel.**\n",
      "** Closest hotel in mount gambier is Commodore on the Park.**\n",
      "There is no Hotel near najran.\n",
      "There is no Hotel near aksu.\n",
      "** Closest hotel in waw is Shalom Hotel.**\n",
      "** Closest hotel in kemin is Hotel Kok-Oirok.**\n",
      "** Closest hotel in neuquen is Hilton Garden Inn Neuquen.**\n",
      "There is no Hotel near shebalino.\n",
      "** Closest hotel in takanabe is Takanabe Daiichi Hotel.**\n",
      "** Closest hotel in kharan is Balochistan Hotel & Rest.**\n",
      "** Closest hotel in doume is Hotel Universel.**\n",
      "** Closest hotel in kita is HÔTEL LE RELAIS.**\n",
      "** Closest hotel in wuan is Xinyuan Hotel.**\n",
      "There is no Hotel near saint-louis.\n",
      "There is no Hotel near tessalit.\n",
      "** Closest hotel in kalat is Sarwary Hotel.**\n",
      "There is no Hotel near yumen.\n",
      "** Closest hotel in diffa is SONEF TRANSPORT.**\n",
      "** Closest hotel in kafanchan is Kasham Hotel.**\n",
      "** Closest hotel in shizuishan is Yingbin Hotel.**\n",
      "There is no Hotel near mastic beach.\n",
      "There is no Hotel near boulsa.\n",
      "** Closest hotel in vila real is Historic Downtown.**\n",
      "** Closest hotel in numan is Delta Hotel.**\n",
      "There is no Hotel near baoro.\n",
      "** Closest hotel in seoul is The Grand Hotel Myeongdong.**\n",
      "** Closest hotel in batouri is Hotel Hollywood.**\n",
      "** Closest hotel in weinan is Luolai Business Hotel.**\n",
      "** Closest hotel in anqing is Home Inns Hotel.**\n"
     ]
    }
   ],
   "source": [
    "vacation_url = \"https://maps.googleapis.com/maps/api/place/nearbysearch/json\"\n",
    "hotel_search = 'hotel'\n",
    "radius = 1000\n",
    "\n",
    "params = {\n",
    "    \"keyword\": hotel_search,\n",
    "    \"radius\": radius,\n",
    "    \"key\": google_key\n",
    "}\n",
    "\n",
    "# Loop through the df and search for hotels in specific radius\n",
    "# Use iterrowsto iterate through pandas dataframe\n",
    "for index, row in ideal_vacation_df.iterrows():\n",
    "    \n",
    "    # Get lat and long from dataframe\n",
    "    lat = row['lat']\n",
    "    long = row['lng']\n",
    "    city = row['city']\n",
    "    \n",
    "    # Add location by collect lat and long from dataframe\n",
    "    params['location'] = f'{lat},{long}'\n",
    "#     print(f'{params}')\n",
    "    \n",
    "    # Make request from the google website\n",
    "    vacation_hotels = requests.get(vacation_url, params = params).json()\n",
    "  \n",
    "    try:\n",
    "        hotel_name = vacation_hotels['results'][0]['name']\n",
    "        \n",
    "        ideal_vacation_df.loc[index, 'hotel_name'] = hotel_name\n",
    "        print(f\"** Closest hotel in {city} is {hotel_name}.**\")\n",
    "#         print(f'*************')\n",
    "    \n",
    "    except IndexError:\n",
    "        print(f'There is no Hotel near {city}.')\n",
    "#         print(f'-------')\n",
    " "
   ]
  },
  {
   "cell_type": "code",
   "execution_count": 9,
   "metadata": {},
   "outputs": [
    {
     "data": {
      "text/plain": [
       "city          38\n",
       "Country       38\n",
       "lat           38\n",
       "lng           38\n",
       "max_temp      38\n",
       "wind_speed    38\n",
       "cloudiness    38\n",
       "humid         38\n",
       "hotel_name    38\n",
       "dtype: int64"
      ]
     },
     "execution_count": 9,
     "metadata": {},
     "output_type": "execute_result"
    }
   ],
   "source": [
    "ideal_vacation_df.head(5)\n",
    "ideal_vacation_df.count()"
   ]
  },
  {
   "cell_type": "code",
   "execution_count": 14,
   "metadata": {},
   "outputs": [
    {
     "data": {
      "text/plain": [
       "city          25\n",
       "Country       25\n",
       "lat           25\n",
       "lng           25\n",
       "max_temp      25\n",
       "wind_speed    25\n",
       "cloudiness    25\n",
       "humid         25\n",
       "hotel_name    25\n",
       "dtype: int64"
      ]
     },
     "execution_count": 14,
     "metadata": {},
     "output_type": "execute_result"
    }
   ],
   "source": [
    "# Select only row that have hotel name\n",
    "hotel_df = ideal_vacation_df.loc[ideal_vacation_df['hotel_name'] != '']\n",
    "# hotel_df.head(38)\n",
    "hotel_df.count()"
   ]
  },
  {
   "cell_type": "code",
   "execution_count": 17,
   "metadata": {},
   "outputs": [
    {
     "data": {
      "application/vnd.jupyter.widget-view+json": {
       "model_id": "2439cf0a531d448b8179eb686135d624",
       "version_major": 2,
       "version_minor": 0
      },
      "text/plain": [
       "Figure(layout=FigureLayout(height='420px'))"
      ]
     },
     "metadata": {},
     "output_type": "display_data"
    }
   ],
   "source": [
    "# Create heat map with interactive markers\n",
    "hotel_markers = hotel_df[['lat','lng']]\n",
    "hotel_locations = [hotel_markers for hotel in hotel_df]\n",
    "info_box_template = \"\"\"\n",
    "<dl>\n",
    "<dt>Name</dt><dd>{hotel_name}</dd>\n",
    "<dt>City</dt><dd>{city}</dd>\n",
    "<dt>Country</dt><dd>{Country}</dd>\n",
    "</dl>\n",
    "\"\"\"\n",
    "hotel_info = [info_box_template.format(**row) for index, row in hotel_df.iterrows()]\n",
    "# hotel_info = [info_box_template.format(**hotel) for index, hotel in hotel_df]\n",
    "marker_layer = gmaps.marker_layer(hotel_markers, info_box_content = hotel_info)\n",
    "fig.add_layer(marker_layer)\n",
    "fig"
   ]
  },
  {
   "cell_type": "code",
   "execution_count": null,
   "metadata": {},
   "outputs": [],
   "source": []
  }
 ],
 "metadata": {
  "kernelspec": {
   "display_name": "Python 3",
   "language": "python",
   "name": "python3"
  },
  "language_info": {
   "codemirror_mode": {
    "name": "ipython",
    "version": 3
   },
   "file_extension": ".py",
   "mimetype": "text/x-python",
   "name": "python",
   "nbconvert_exporter": "python",
   "pygments_lexer": "ipython3",
   "version": "3.7.6"
  }
 },
 "nbformat": 4,
 "nbformat_minor": 4
}
