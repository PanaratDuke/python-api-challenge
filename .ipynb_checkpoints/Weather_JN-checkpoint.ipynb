{
 "cells": [
  {
   "cell_type": "code",
   "execution_count": 18,
   "metadata": {},
   "outputs": [],
   "source": [
    "# Dependencies and Setup\n",
    "import matplotlib.pyplot as plt\n",
    "import pandas as pd\n",
    "import numpy as np\n",
    "import requests\n",
    "import time\n",
    "from scipy.stats import linregress"
   ]
  },
  {
   "cell_type": "code",
   "execution_count": 31,
   "metadata": {},
   "outputs": [],
   "source": [
    "# Import API key\n",
    "from api_keys import weather_api_key"
   ]
  },
  {
   "cell_type": "code",
   "execution_count": 32,
   "metadata": {},
   "outputs": [],
   "source": [
    "# Incorporated citipy to determine city based on latitude and longitude\n",
    "from citipy import citipy"
   ]
  },
  {
   "cell_type": "code",
   "execution_count": null,
   "metadata": {},
   "outputs": [],
   "source": []
  },
  {
   "cell_type": "code",
   "execution_count": 33,
   "metadata": {},
   "outputs": [],
   "source": [
    "# Output File (CSV)\n",
    "output_data_file = \"output_data/cities.csv\""
   ]
  },
  {
   "cell_type": "code",
   "execution_count": 34,
   "metadata": {},
   "outputs": [],
   "source": [
    "# Range of latitudes and longitudes\n",
    "lat_range = (-90, 90)\n",
    "lat_range = (-180, 180)"
   ]
  },
  {
   "cell_type": "code",
   "execution_count": 41,
   "metadata": {},
   "outputs": [],
   "source": [
    "# List for holding lat_lngs and cities\n",
    "lat_lngs = []\n",
    "cities = []"
   ]
  },
  {
   "cell_type": "code",
   "execution_count": null,
   "metadata": {},
   "outputs": [],
   "source": [
    "\n",
    "\n",
    "url = \"http://www.omdbapi.com/?apikey=\" + api_key + \"&t=\"\n",
    "\n",
    "movies = [\"Aliens\", \"Sing\", \"Moana\"]\n",
    "\n",
    "responses = [];\n",
    "\n",
    "for movie in movies:\n",
    "    movie_data = requests.get(url + movie).json()\n",
    "    responses.append(movie_data)\n",
    "    print(f'The director of {movie} is {movie_data[\"Director\"]}')"
   ]
  },
  {
   "cell_type": "code",
   "execution_count": null,
   "metadata": {},
   "outputs": [],
   "source": [
    "# Build query URL and request results\n",
    "url = \"api.openweathermap.org/data/2.5/weather?\" #lat=35&lon=139\n",
    "\n"
   ]
  },
  {
   "cell_type": "code",
   "execution_count": 43,
   "metadata": {},
   "outputs": [
    {
     "name": "stdout",
     "output_type": "stream",
     "text": [
      "[(-44.095843363624766, 13.144484575707509), (-88.24433185127005, 42.54848975054196), (-6.090566551583223, 17.61101771412035)]\n"
     ]
    },
    {
     "data": {
      "text/plain": [
       "14"
      ]
     },
     "execution_count": 43,
     "metadata": {},
     "output_type": "execute_result"
    }
   ],
   "source": [
    "# Create a set of random lat and lng combinations\n",
    "lats = np.random.uniform(low=-90.000, high=90.000, size=3)\n",
    "lngs = np.random.uniform(low=-180.000, high=180.000, size=3)\n",
    "\n",
    "# Format into one dataframe with lat and long in one row\n",
    "lat_lngs = zip(lats, lngs)\n",
    "print_lat_lngs = list(lat_lngs) \n",
    "# print(f'{print_lat_lngs}')\n",
    "\n",
    "# Build query URL and request results\n",
    "query_url = f\"lat={lats}&lon={lngs}&appid={weather_api_key}\"\n",
    "\n",
    "for lat_lng in lat_lngs:\n",
    "    cities_weather = requests.get(url+query_ural).json()\n",
    "    responses.append(cities_weather)\n",
    "    print"
   ]
  },
  {
   "cell_type": "code",
   "execution_count": null,
   "metadata": {},
   "outputs": [],
   "source": [
    "\n",
    "# Identify nearest city for each lat, lng combination\n",
    "for lat_lng in lat_lngs:\n",
    "    city = citipy.nearest_city(lat_lng[0], lat_lng[1]).city_name\n",
    "    # If the city is unique, then add it to our cities list\n",
    "    if city not in cities:\n",
    "         cities.append(city)\n",
    "            \n",
    "# Print the city count to confirm sufficient count\n",
    "len(cities)\n",
    "\n",
    "# cities"
   ]
  },
  {
   "cell_type": "code",
   "execution_count": 29,
   "metadata": {},
   "outputs": [
    {
     "name": "stdout",
     "output_type": "stream",
     "text": [
      "lat=[ 37.53549389 -52.55924418  77.46386097 ...  54.32920396  82.48188046\n",
      " -14.51395964]&lon=[144.94045544  69.96022766 173.65798778 ... -62.24979297 158.08173255\n",
      "  36.17914283]&appid=368264d9d6377ab42b4204478a7686c9\n"
     ]
    }
   ],
   "source": [
    "\n",
    "\n",
    "# query_url = f'{url}appid={weather_api_key}&q{}'\n",
    "print(query_url)"
   ]
  },
  {
   "cell_type": "code",
   "execution_count": 10,
   "metadata": {},
   "outputs": [
    {
     "name": "stdout",
     "output_type": "stream",
     "text": [
      "<zip object at 0x00000165E7CCB388>\n"
     ]
    }
   ],
   "source": [
    "responses =[];\n",
    "\n"
   ]
  },
  {
   "cell_type": "code",
   "execution_count": 13,
   "metadata": {},
   "outputs": [],
   "source": []
  }
 ],
 "metadata": {
  "kernelspec": {
   "display_name": "Python 3",
   "language": "python",
   "name": "python3"
  },
  "language_info": {
   "codemirror_mode": {
    "name": "ipython",
    "version": 3
   },
   "file_extension": ".py",
   "mimetype": "text/x-python",
   "name": "python",
   "nbconvert_exporter": "python",
   "pygments_lexer": "ipython3",
   "version": "3.7.4"
  }
 },
 "nbformat": 4,
 "nbformat_minor": 2
}
