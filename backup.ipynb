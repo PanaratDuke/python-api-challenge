{
 "cells": [
  {
   "cell_type": "code",
   "execution_count": 41,
   "metadata": {},
   "outputs": [],
   "source": [
    "# Dependencies and Setup\n",
    "import matplotlib.pyplot as plt\n",
    "import pandas as pd\n",
    "import numpy as np\n",
    "import requests\n",
    "import time\n",
    "from scipy.stats import linregress"
   ]
  },
  {
   "cell_type": "code",
   "execution_count": 42,
   "metadata": {},
   "outputs": [],
   "source": [
    "# Import API key\n",
    "from api_keys import weather_api_key"
   ]
  },
  {
   "cell_type": "code",
   "execution_count": 43,
   "metadata": {},
   "outputs": [],
   "source": [
    "# Incorporated citipy to determine city based on latitude and longitude\n",
    "from citipy import citipy"
   ]
  },
  {
   "cell_type": "code",
   "execution_count": 44,
   "metadata": {},
   "outputs": [],
   "source": [
    "# Output File (CSV)\n",
    "output_data_file = \"output_data/cities.csv\""
   ]
  },
  {
   "cell_type": "code",
   "execution_count": 45,
   "metadata": {},
   "outputs": [],
   "source": [
    "# Range of latitudes and longitudes\n",
    "lat_range = (-90, 90)\n",
    "lat_range = (-180, 180)"
   ]
  },
  {
   "cell_type": "code",
   "execution_count": 46,
   "metadata": {},
   "outputs": [],
   "source": [
    "# List for holding lat_lngs and cities\n",
    "lat_lngs = []\n",
    "cities = []"
   ]
  },
  {
   "cell_type": "code",
   "execution_count": 47,
   "metadata": {},
   "outputs": [],
   "source": [
    "# Build query URL and request results\n",
    "url = \"http://api.openweathermap.org/data/2.5/weather?units=Imperial&\" #lat=35&lon=139\n",
    "\n"
   ]
  },
  {
   "cell_type": "code",
   "execution_count": 48,
   "metadata": {},
   "outputs": [],
   "source": [
    "# Create a set of random lat and lng combinations\n",
    "lats = np.random.uniform(low=-90.000, high=90.000, size=3)\n",
    "lngs = np.random.uniform(low=-180.000, high=180.000, size=3)\n",
    "responses =[];\n",
    "# Format into one dataframe with lat and long in one row\n",
    "lat_lngs = zip(lats, lngs)\n",
    "# lat_lngs\n",
    "print_lat_lngs = list(lat_lngs) \n",
    "# print(f'{print_lat_lngs}')\n"
   ]
  },
  {
   "cell_type": "raw",
   "metadata": {},
   "source": [
    "cities = [\"Paris\", \"London\", \"Oslo\", \"Beijing\", \"Houston\", \"Fargo\"]\n",
    "\n",
    "# set up lists to hold reponse info\n",
    "lat = []\n",
    "temp = []\n",
    "\n",
    "# Loop through the list of cities and perform a request for data on each\n",
    "for city in cities:\n",
    "    # jeff added\n",
    "    print(query_url + city)\n",
    "    response = requests.get(query_url + city).json()\n",
    "    lat.append(response['coord']['lat'])\n",
    "    temp.append(response['main']['temp'])\n",
    "\n",
    "print(f\"The latitude information received is: {lat}\")\n",
    "print(f\"The temperature information received is: {temp}\")"
   ]
  },
  {
   "cell_type": "code",
   "execution_count": 52,
   "metadata": {},
   "outputs": [],
   "source": [
    "# Build query URL and request results\n",
    "responses = [];\n",
    "for lat_lng in print_lat_lngs:\n",
    "    query_url = f\"lat={lat_lng[0]}&lon={lat_lng[1]}&appid={weather_api_key}\"\n",
    "    cities_weather = requests.get(url+query_url).json()\n",
    "# Tell request to pause for 2 seconds\n",
    "    time.sleep(2)\n",
    "    responses.append(cities_weather)\n",
    "#     print(f'{responses}')\n",
    "#     print(query_url)\n"
   ]
  },
  {
   "cell_type": "code",
   "execution_count": 50,
   "metadata": {},
   "outputs": [
    {
     "data": {
      "text/plain": [
       "['aklavik', 'marzuq', 'illoqqortoormiut']"
      ]
     },
     "execution_count": 50,
     "metadata": {},
     "output_type": "execute_result"
    }
   ],
   "source": [
    "# Identify nearest city for each lat, lng combination\n",
    "\n",
    "\n",
    "for lat_lng in print_lat_lngs:\n",
    "    city = citipy.nearest_city(lat_lng[0], lat_lng[1]).city_name\n",
    "    \n",
    "    # If the city is unique, then add it to our cities list\n",
    "    if city not in cities:\n",
    "         cities.append(city)\n",
    "            \n",
    "# Print the city count to confirm sufficient count\n",
    "cities\n",
    "# len(cities)\n",
    "\n",
    "# cities"
   ]
  },
  {
   "cell_type": "code",
   "execution_count": 54,
   "metadata": {},
   "outputs": [],
   "source": [
    "temp = [];\n",
    "lat = [];\n",
    "\n",
    "\n",
    "# for response in responses:\n",
    "#     temp.append(responses[\"main\"][\"temp\"])\n",
    "#     lat.append(responses['coord'][\"lat\"])\n",
    "\n",
    "# temp[0]    \n",
    "    \n",
    "    "
   ]
  }
 ],
 "metadata": {
  "kernelspec": {
   "display_name": "Python 3",
   "language": "python",
   "name": "python3"
  },
  "language_info": {
   "codemirror_mode": {
    "name": "ipython",
    "version": 3
   },
   "file_extension": ".py",
   "mimetype": "text/x-python",
   "name": "python",
   "nbconvert_exporter": "python",
   "pygments_lexer": "ipython3",
   "version": "3.7.6"
  }
 },
 "nbformat": 4,
 "nbformat_minor": 2
}
